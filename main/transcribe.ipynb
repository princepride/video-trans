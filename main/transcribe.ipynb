{
 "cells": [
  {
   "cell_type": "code",
   "execution_count": 1,
   "metadata": {},
   "outputs": [
    {
     "ename": "ImportError",
     "evalue": "attempted relative import with no known parent package",
     "output_type": "error",
     "traceback": [
      "\u001b[1;31m---------------------------------------------------------------------------\u001b[0m",
      "\u001b[1;31mImportError\u001b[0m                               Traceback (most recent call last)",
      "\u001b[1;32mc:\\Users\\wangz\\OneDrive\\Desktop\\video-trans\\main\\transcribe.ipynb Cell 1\u001b[0m line \u001b[0;36m1\n\u001b[1;32m----> <a href='vscode-notebook-cell:/c%3A/Users/wangz/OneDrive/Desktop/video-trans/main/transcribe.ipynb#W0sZmlsZQ%3D%3D?line=0'>1</a>\u001b[0m \u001b[39mfrom\u001b[39;00m \u001b[39m.\u001b[39;00m\u001b[39m.\u001b[39;00m\u001b[39mbuzz\u001b[39;00m\u001b[39m.\u001b[39;00m\u001b[39mbuzz\u001b[39;00m\u001b[39m.\u001b[39;00m\u001b[39mtranscriber\u001b[39;00m \u001b[39mimport\u001b[39;00m (\n\u001b[0;32m      <a href='vscode-notebook-cell:/c%3A/Users/wangz/OneDrive/Desktop/video-trans/main/transcribe.ipynb#W0sZmlsZQ%3D%3D?line=1'>2</a>\u001b[0m     Task,\n\u001b[0;32m      <a href='vscode-notebook-cell:/c%3A/Users/wangz/OneDrive/Desktop/video-trans/main/transcribe.ipynb#W0sZmlsZQ%3D%3D?line=2'>3</a>\u001b[0m     FileTranscriptionTask,\n\u001b[0;32m      <a href='vscode-notebook-cell:/c%3A/Users/wangz/OneDrive/Desktop/video-trans/main/transcribe.ipynb#W0sZmlsZQ%3D%3D?line=3'>4</a>\u001b[0m     FileTranscriptionOptions,\n\u001b[0;32m      <a href='vscode-notebook-cell:/c%3A/Users/wangz/OneDrive/Desktop/video-trans/main/transcribe.ipynb#W0sZmlsZQ%3D%3D?line=4'>5</a>\u001b[0m     TranscriptionOptions,\n\u001b[0;32m      <a href='vscode-notebook-cell:/c%3A/Users/wangz/OneDrive/Desktop/video-trans/main/transcribe.ipynb#W0sZmlsZQ%3D%3D?line=5'>6</a>\u001b[0m     LANGUAGES,\n\u001b[0;32m      <a href='vscode-notebook-cell:/c%3A/Users/wangz/OneDrive/Desktop/video-trans/main/transcribe.ipynb#W0sZmlsZQ%3D%3D?line=6'>7</a>\u001b[0m     OutputFormat,\n\u001b[0;32m      <a href='vscode-notebook-cell:/c%3A/Users/wangz/OneDrive/Desktop/video-trans/main/transcribe.ipynb#W0sZmlsZQ%3D%3D?line=7'>8</a>\u001b[0m )\n",
      "\u001b[1;31mImportError\u001b[0m: attempted relative import with no known parent package"
     ]
    }
   ],
   "source": [
    "from ..buzz.buzz.transcriber import (\n",
    "    Task,\n",
    "    FileTranscriptionTask,\n",
    "    FileTranscriptionOptions,\n",
    "    TranscriptionOptions,\n",
    "    LANGUAGES,\n",
    "    OutputFormat,\n",
    ")"
   ]
  },
  {
   "cell_type": "markdown",
   "metadata": {},
   "source": []
  }
 ],
 "metadata": {
  "kernelspec": {
   "display_name": "huggingface",
   "language": "python",
   "name": "python3"
  },
  "language_info": {
   "codemirror_mode": {
    "name": "ipython",
    "version": 3
   },
   "file_extension": ".py",
   "mimetype": "text/x-python",
   "name": "python",
   "nbconvert_exporter": "python",
   "pygments_lexer": "ipython3",
   "version": "3.9.16"
  }
 },
 "nbformat": 4,
 "nbformat_minor": 2
}
