{
 "cells": [
  {
   "cell_type": "code",
   "execution_count": 2,
   "metadata": {},
   "outputs": [],
   "source": [
    "import sys\n",
    "sys.path.append(\"..\")"
   ]
  },
  {
   "cell_type": "code",
   "execution_count": 4,
   "metadata": {},
   "outputs": [
    {
     "ename": "OSError",
     "evalue": "[WinError 127] The specified procedure could not be found. Error loading \"d:\\anaconda3\\envs\\huggingface\\lib\\site-packages\\torch\\lib\\c10_cuda.dll\" or one of its dependencies.",
     "output_type": "error",
     "traceback": [
      "\u001b[1;31m---------------------------------------------------------------------------\u001b[0m",
      "\u001b[1;31mOSError\u001b[0m                                   Traceback (most recent call last)",
      "\u001b[1;32mc:\\Users\\wangz\\OneDrive\\Desktop\\video-trans\\main\\transcribe.ipynb Cell 2\u001b[0m line \u001b[0;36m1\n\u001b[1;32m----> <a href='vscode-notebook-cell:/c%3A/Users/wangz/OneDrive/Desktop/video-trans/main/transcribe.ipynb#W0sZmlsZQ%3D%3D?line=0'>1</a>\u001b[0m \u001b[39mfrom\u001b[39;00m \u001b[39mbuzz\u001b[39;00m\u001b[39m.\u001b[39;00m\u001b[39mbuzz\u001b[39;00m\u001b[39m.\u001b[39;00m\u001b[39mtranscriber\u001b[39;00m \u001b[39mimport\u001b[39;00m (\n\u001b[0;32m      <a href='vscode-notebook-cell:/c%3A/Users/wangz/OneDrive/Desktop/video-trans/main/transcribe.ipynb#W0sZmlsZQ%3D%3D?line=1'>2</a>\u001b[0m     Task,\n\u001b[0;32m      <a href='vscode-notebook-cell:/c%3A/Users/wangz/OneDrive/Desktop/video-trans/main/transcribe.ipynb#W0sZmlsZQ%3D%3D?line=2'>3</a>\u001b[0m     FileTranscriptionTask,\n\u001b[0;32m      <a href='vscode-notebook-cell:/c%3A/Users/wangz/OneDrive/Desktop/video-trans/main/transcribe.ipynb#W0sZmlsZQ%3D%3D?line=3'>4</a>\u001b[0m     FileTranscriptionOptions,\n\u001b[0;32m      <a href='vscode-notebook-cell:/c%3A/Users/wangz/OneDrive/Desktop/video-trans/main/transcribe.ipynb#W0sZmlsZQ%3D%3D?line=4'>5</a>\u001b[0m     TranscriptionOptions,\n\u001b[0;32m      <a href='vscode-notebook-cell:/c%3A/Users/wangz/OneDrive/Desktop/video-trans/main/transcribe.ipynb#W0sZmlsZQ%3D%3D?line=5'>6</a>\u001b[0m     LANGUAGES,\n\u001b[0;32m      <a href='vscode-notebook-cell:/c%3A/Users/wangz/OneDrive/Desktop/video-trans/main/transcribe.ipynb#W0sZmlsZQ%3D%3D?line=6'>7</a>\u001b[0m     OutputFormat,\n\u001b[0;32m      <a href='vscode-notebook-cell:/c%3A/Users/wangz/OneDrive/Desktop/video-trans/main/transcribe.ipynb#W0sZmlsZQ%3D%3D?line=7'>8</a>\u001b[0m )\n",
      "File \u001b[1;32mc:\\Users\\wangz\\OneDrive\\Desktop\\video-trans\\main\\..\\buzz\\buzz\\transcriber.py:21\u001b[0m\n\u001b[0;32m     19\u001b[0m \u001b[39mimport\u001b[39;00m \u001b[39mnumpy\u001b[39;00m \u001b[39mas\u001b[39;00m \u001b[39mnp\u001b[39;00m\n\u001b[0;32m     20\u001b[0m \u001b[39mimport\u001b[39;00m \u001b[39mopenai\u001b[39;00m\n\u001b[1;32m---> 21\u001b[0m \u001b[39mimport\u001b[39;00m \u001b[39mstable_whisper\u001b[39;00m\n\u001b[0;32m     22\u001b[0m \u001b[39mimport\u001b[39;00m \u001b[39mtqdm\u001b[39;00m\n\u001b[0;32m     23\u001b[0m \u001b[39mimport\u001b[39;00m \u001b[39mwhisper\u001b[39;00m\n",
      "File \u001b[1;32md:\\anaconda3\\envs\\huggingface\\lib\\site-packages\\stable_whisper\\__init__.py:1\u001b[0m\n\u001b[1;32m----> 1\u001b[0m \u001b[39mfrom\u001b[39;00m \u001b[39m.\u001b[39;00m\u001b[39mstabilization\u001b[39;00m \u001b[39mimport\u001b[39;00m \u001b[39m*\u001b[39m\n\u001b[0;32m      2\u001b[0m \u001b[39mfrom\u001b[39;00m \u001b[39m.\u001b[39;00m\u001b[39mtext_output\u001b[39;00m \u001b[39mimport\u001b[39;00m \u001b[39m*\u001b[39m\n\u001b[0;32m      3\u001b[0m \u001b[39mfrom\u001b[39;00m \u001b[39m.\u001b[39;00m\u001b[39mwhisper_word_level\u001b[39;00m \u001b[39mimport\u001b[39;00m \u001b[39m*\u001b[39m\n",
      "File \u001b[1;32md:\\anaconda3\\envs\\huggingface\\lib\\site-packages\\stable_whisper\\stabilization.py:6\u001b[0m\n\u001b[0;32m      4\u001b[0m \u001b[39mfrom\u001b[39;00m \u001b[39mtyping\u001b[39;00m \u001b[39mimport\u001b[39;00m Union, List, Tuple\n\u001b[0;32m      5\u001b[0m \u001b[39mimport\u001b[39;00m \u001b[39mnumpy\u001b[39;00m \u001b[39mas\u001b[39;00m \u001b[39mnp\u001b[39;00m\n\u001b[1;32m----> 6\u001b[0m \u001b[39mfrom\u001b[39;00m \u001b[39mwhisper\u001b[39;00m\u001b[39m.\u001b[39;00m\u001b[39mtokenizer\u001b[39;00m \u001b[39mimport\u001b[39;00m Tokenizer\n\u001b[0;32m      9\u001b[0m MIN_DUR \u001b[39m=\u001b[39m \u001b[39m0.02\u001b[39m\n\u001b[0;32m     12\u001b[0m \u001b[39mdef\u001b[39;00m \u001b[39mcheck_ascending_sequence\u001b[39m(seq: Union[List[Union[\u001b[39mint\u001b[39m, \u001b[39mfloat\u001b[39m]], np\u001b[39m.\u001b[39mndarray], verbose\u001b[39m=\u001b[39m\u001b[39mTrue\u001b[39;00m) \u001b[39m-\u001b[39m\u001b[39m>\u001b[39m \u001b[39mbool\u001b[39m:\n",
      "File \u001b[1;32md:\\anaconda3\\envs\\huggingface\\lib\\site-packages\\whisper\\__init__.py:8\u001b[0m\n\u001b[0;32m      5\u001b[0m \u001b[39mimport\u001b[39;00m \u001b[39mwarnings\u001b[39;00m\n\u001b[0;32m      6\u001b[0m \u001b[39mfrom\u001b[39;00m \u001b[39mtyping\u001b[39;00m \u001b[39mimport\u001b[39;00m List, Optional, Union\n\u001b[1;32m----> 8\u001b[0m \u001b[39mimport\u001b[39;00m \u001b[39mtorch\u001b[39;00m\n\u001b[0;32m      9\u001b[0m \u001b[39mfrom\u001b[39;00m \u001b[39mtqdm\u001b[39;00m \u001b[39mimport\u001b[39;00m tqdm\n\u001b[0;32m     11\u001b[0m \u001b[39mfrom\u001b[39;00m \u001b[39m.\u001b[39;00m\u001b[39maudio\u001b[39;00m \u001b[39mimport\u001b[39;00m load_audio, log_mel_spectrogram, pad_or_trim\n",
      "File \u001b[1;32md:\\anaconda3\\envs\\huggingface\\lib\\site-packages\\torch\\__init__.py:129\u001b[0m\n\u001b[0;32m    127\u001b[0m     err \u001b[39m=\u001b[39m ctypes\u001b[39m.\u001b[39mWinError(last_error)\n\u001b[0;32m    128\u001b[0m     err\u001b[39m.\u001b[39mstrerror \u001b[39m+\u001b[39m\u001b[39m=\u001b[39m \u001b[39mf\u001b[39m\u001b[39m'\u001b[39m\u001b[39m Error loading \u001b[39m\u001b[39m\"\u001b[39m\u001b[39m{\u001b[39;00mdll\u001b[39m}\u001b[39;00m\u001b[39m\"\u001b[39m\u001b[39m or one of its dependencies.\u001b[39m\u001b[39m'\u001b[39m\n\u001b[1;32m--> 129\u001b[0m     \u001b[39mraise\u001b[39;00m err\n\u001b[0;32m    130\u001b[0m \u001b[39melif\u001b[39;00m res \u001b[39mis\u001b[39;00m \u001b[39mnot\u001b[39;00m \u001b[39mNone\u001b[39;00m:\n\u001b[0;32m    131\u001b[0m     is_loaded \u001b[39m=\u001b[39m \u001b[39mTrue\u001b[39;00m\n",
      "\u001b[1;31mOSError\u001b[0m: [WinError 127] The specified procedure could not be found. Error loading \"d:\\anaconda3\\envs\\huggingface\\lib\\site-packages\\torch\\lib\\c10_cuda.dll\" or one of its dependencies."
     ]
    }
   ],
   "source": [
    "from buzz.buzz.transcriber import (\n",
    "    Task,\n",
    "    FileTranscriptionTask,\n",
    "    FileTranscriptionOptions,\n",
    "    TranscriptionOptions,\n",
    "    LANGUAGES,\n",
    "    OutputFormat,\n",
    ")"
   ]
  },
  {
   "cell_type": "markdown",
   "metadata": {},
   "source": []
  }
 ],
 "metadata": {
  "kernelspec": {
   "display_name": "huggingface",
   "language": "python",
   "name": "python3"
  },
  "language_info": {
   "codemirror_mode": {
    "name": "ipython",
    "version": 3
   },
   "file_extension": ".py",
   "mimetype": "text/x-python",
   "name": "python",
   "nbconvert_exporter": "python",
   "pygments_lexer": "ipython3",
   "version": "3.9.16"
  }
 },
 "nbformat": 4,
 "nbformat_minor": 2
}
