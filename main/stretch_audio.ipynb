{
 "cells": [
  {
   "cell_type": "code",
   "execution_count": null,
   "metadata": {},
   "outputs": [],
   "source": []
  },
  {
   "cell_type": "code",
   "execution_count": 3,
   "metadata": {},
   "outputs": [
    {
     "name": "stdout",
     "output_type": "stream",
     "text": [
      "Requirement already satisfied: pydub in /Users/zhipengwang/anaconda3/lib/python3.11/site-packages (0.25.1)\n",
      "Requirement already satisfied: moviepy in /Users/zhipengwang/anaconda3/lib/python3.11/site-packages (1.0.3)\n",
      "Requirement already satisfied: decorator<5.0,>=4.0.2 in /Users/zhipengwang/anaconda3/lib/python3.11/site-packages (from moviepy) (4.4.2)\n",
      "Requirement already satisfied: tqdm<5.0,>=4.11.2 in /Users/zhipengwang/anaconda3/lib/python3.11/site-packages (from moviepy) (4.65.0)\n",
      "Requirement already satisfied: requests<3.0,>=2.8.1 in /Users/zhipengwang/anaconda3/lib/python3.11/site-packages (from moviepy) (2.31.0)\n",
      "Requirement already satisfied: proglog<=1.0.0 in /Users/zhipengwang/anaconda3/lib/python3.11/site-packages (from moviepy) (0.1.10)\n",
      "Requirement already satisfied: numpy>=1.17.3 in /Users/zhipengwang/anaconda3/lib/python3.11/site-packages (from moviepy) (1.24.3)\n",
      "Requirement already satisfied: imageio<3.0,>=2.5 in /Users/zhipengwang/anaconda3/lib/python3.11/site-packages (from moviepy) (2.31.1)\n",
      "Requirement already satisfied: imageio-ffmpeg>=0.2.0 in /Users/zhipengwang/anaconda3/lib/python3.11/site-packages (from moviepy) (0.4.9)\n",
      "Requirement already satisfied: pillow>=8.3.2 in /Users/zhipengwang/anaconda3/lib/python3.11/site-packages (from imageio<3.0,>=2.5->moviepy) (9.4.0)\n",
      "Requirement already satisfied: setuptools in /Users/zhipengwang/anaconda3/lib/python3.11/site-packages (from imageio-ffmpeg>=0.2.0->moviepy) (68.0.0)\n",
      "Requirement already satisfied: charset-normalizer<4,>=2 in /Users/zhipengwang/anaconda3/lib/python3.11/site-packages (from requests<3.0,>=2.8.1->moviepy) (2.0.4)\n",
      "Requirement already satisfied: idna<4,>=2.5 in /Users/zhipengwang/anaconda3/lib/python3.11/site-packages (from requests<3.0,>=2.8.1->moviepy) (3.4)\n",
      "Requirement already satisfied: urllib3<3,>=1.21.1 in /Users/zhipengwang/anaconda3/lib/python3.11/site-packages (from requests<3.0,>=2.8.1->moviepy) (1.26.16)\n",
      "Requirement already satisfied: certifi>=2017.4.17 in /Users/zhipengwang/anaconda3/lib/python3.11/site-packages (from requests<3.0,>=2.8.1->moviepy) (2023.7.22)\n"
     ]
    }
   ],
   "source": [
    "!pip install pydub moviepy"
   ]
  },
  {
   "cell_type": "code",
   "execution_count": 28,
   "metadata": {},
   "outputs": [
    {
     "data": {
      "text/plain": [
       "<_io.BufferedRandom name='stretched_audio.wav'>"
      ]
     },
     "execution_count": 28,
     "metadata": {},
     "output_type": "execute_result"
    }
   ],
   "source": [
    "from pydub import AudioSegment\n",
    "from moviepy.editor import VideoFileClip\n",
    "\n",
    "# 1. 加载音频和视频文件\n",
    "audio_file_path = \"/Users/zhipengwang/Downloads/video/en_voice.wav\"\n",
    "video_file_path = \"/Users/zhipengwang/Downloads/video/video_no_voice.mp4\"\n",
    "\n",
    "audio = AudioSegment.from_file(audio_file_path)\n",
    "video = VideoFileClip(video_file_path)\n",
    "\n",
    "# 2. 获取音频和视频的长度（将音频长度转换为秒）\n",
    "video_duration = video.duration\n",
    "\n",
    "# 4. 拉伸音频\n",
    "stretched_audio = audio\n",
    "\n",
    "# 5. 补充静音以匹配视频长度\n",
    "silence_duration = (video_duration - (len(stretched_audio) / 1000)) * 1000\n",
    "silence = AudioSegment.silent(duration=silence_duration)\n",
    "\n",
    "stretched_audio += silence\n",
    "\n",
    "# 6. 保存拉伸后的音频\n",
    "stretched_audio.export(\"stretched_audio.wav\", format=\"wav\")\n"
   ]
  },
  {
   "cell_type": "code",
   "execution_count": 25,
   "metadata": {},
   "outputs": [],
   "source": [
    "def speed_change(sound, speed=1.0):\n",
    "    # Manually override the frame_rate. This tells the computer how many\n",
    "    # samples to play per second\n",
    "    sound_with_altered_frame_rate = sound._spawn(sound.raw_data, overrides={\n",
    "        \"frame_rate\": int(sound.frame_rate * speed)\n",
    "    })\n",
    "\n",
    "    # convert the sound with altered frame rate to a standard frame rate\n",
    "    # so that regular playback programs will work right. They often only\n",
    "    # know how to play audio at standard frame rate (like 44.1k)\n",
    "    return sound_with_altered_frame_rate.set_frame_rate(sound.frame_rate)"
   ]
  }
 ],
 "metadata": {
  "kernelspec": {
   "display_name": "Python 3",
   "language": "python",
   "name": "python3"
  },
  "language_info": {
   "codemirror_mode": {
    "name": "ipython",
    "version": 3
   },
   "file_extension": ".py",
   "mimetype": "text/x-python",
   "name": "python",
   "nbconvert_exporter": "python",
   "pygments_lexer": "ipython3",
   "version": "3.11.4"
  }
 },
 "nbformat": 4,
 "nbformat_minor": 2
}
